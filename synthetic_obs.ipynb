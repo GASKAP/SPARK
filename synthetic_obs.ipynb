{
  "nbformat": 4,
  "nbformat_minor": 0,
  "metadata": {
    "colab": {
      "name": "synthetic_obs.ipynb",
      "provenance": [],
      "authorship_tag": "ABX9TyPDitrzWiZtAtZZjnfoW9N+",
      "include_colab_link": true
    },
    "kernelspec": {
      "name": "python3",
      "display_name": "Python 3"
    }
  },
  "cells": [
    {
      "cell_type": "markdown",
      "metadata": {
        "id": "view-in-github",
        "colab_type": "text"
      },
      "source": [
        "<a href=\"https://colab.research.google.com/github/GASKAP/SPARK/blob/master/synthetic_obs.ipynb\" target=\"_parent\"><img src=\"https://colab.research.google.com/assets/colab-badge.svg\" alt=\"Open In Colab\"/></a>"
      ]
    },
    {
      "cell_type": "markdown",
      "metadata": {
        "id": "kEoTUr2OYYXh"
      },
      "source": [
        "#Synthetic observation of the 21cm line from numerical simulation"
      ]
    },
    {
      "cell_type": "markdown",
      "metadata": {
        "id": "tx5wxgAlZ-BE"
      },
      "source": [
        "##Install SPARK package"
      ]
    },
    {
      "cell_type": "code",
      "metadata": {
        "id": "yqd0p6rkYKvM",
        "outputId": "ca592f3e-4002-4f8e-e898-a4c7316607e4",
        "colab": {
          "base_uri": "https://localhost:8080/"
        }
      },
      "source": [
        "import os\n",
        "!mkdir rundir\n",
        "os.chdir('/content/rundir/')\n",
        "!rm -rf SPARK\n",
        "!git clone https://github.com/GASKAP/SPARK\n",
        "os.chdir('SPARK')\n",
        "!pip install ."
      ],
      "execution_count": 1,
      "outputs": [
        {
          "output_type": "stream",
          "name": "stdout",
          "text": [
            "Cloning into 'SPARK'...\n",
            "remote: Enumerating objects: 247, done.\u001b[K\n",
            "remote: Counting objects: 100% (15/15), done.\u001b[K\n",
            "remote: Compressing objects: 100% (11/11), done.\u001b[K\n",
            "remote: Total 247 (delta 8), reused 4 (delta 4), pack-reused 232\u001b[K\n",
            "Receiving objects: 100% (247/247), 13.84 MiB | 36.90 MiB/s, done.\n",
            "Resolving deltas: 100% (119/119), done.\n",
            "Processing /content/rundir/SPARK\n",
            "  Preparing metadata (setup.py) ... \u001b[?25l\u001b[?25hdone\n",
            "Requirement already satisfied: numpy in /usr/local/lib/python3.10/dist-packages (from SPARK==0.1.0) (1.23.5)\n",
            "Building wheels for collected packages: SPARK\n",
            "  Building wheel for SPARK (setup.py) ... \u001b[?25l\u001b[?25hdone\n",
            "  Created wheel for SPARK: filename=SPARK-0.1.0-py3-none-any.whl size=22018 sha256=f5b3ce1e7069544185913326059c038f5841089bab950113922595c7981f44ef\n",
            "  Stored in directory: /tmp/pip-ephem-wheel-cache-gc8bou23/wheels/a0/35/7b/555676e88c53cdc7f1bdd009c10952c9c089fe423c666cc79e\n",
            "Successfully built SPARK\n",
            "Installing collected packages: SPARK\n",
            "Successfully installed SPARK-0.1.0\n"
          ]
        }
      ]
    },
    {
      "cell_type": "code",
      "source": [
        "os.chdir('/content/')"
      ],
      "metadata": {
        "id": "XacMQyfe88CW"
      },
      "execution_count": 2,
      "outputs": []
    },
    {
      "cell_type": "markdown",
      "metadata": {
        "id": "9kbzwuTAaDnM"
      },
      "source": [
        "##Import packages"
      ]
    },
    {
      "cell_type": "code",
      "metadata": {
        "id": "hlBbLnBVYWAb"
      },
      "source": [
        "import numpy as np\n",
        "from astropy.io import fits\n",
        "import astropy.table as pytabs\n",
        "import matplotlib.pyplot as plt\n",
        "\n",
        "from SPARK.synthetic import synth"
      ],
      "execution_count": 3,
      "outputs": []
    },
    {
      "cell_type": "markdown",
      "metadata": {
        "id": "_WdHzK1GaH52"
      },
      "source": [
        "##Generate synthetic observation"
      ]
    },
    {
      "cell_type": "code",
      "metadata": {
        "id": "tuaH7k4hYmG0",
        "outputId": "fb5477a6-de7e-4901-a1bb-c44ea9446333",
        "colab": {
          "base_uri": "https://localhost:8080/"
        }
      },
      "source": [
        "    # Open data\n",
        "    path = '/content/rundir/SPARK/data/'\n",
        "\n",
        "    hdu_list_rho = fits.open(path + 'rho_cube_sample.fits')\n",
        "    hdu_list_T = fits.open(path + 'T_cube_sample.fits')\n",
        "    hdu_list_vz = fits.open(path + 'vz_cube_sample.fits')\n",
        "\n",
        "    #Velocity range and channel spacing\n",
        "    vmin = -40 #km.s-1\n",
        "    vmax = 40 #km.s-1\n",
        "    dv = 0.8 #km.s-1\n",
        "\n",
        "    rho_cube = hdu_list_rho[0].data #g.cm-3\n",
        "    T_cube = hdu_list_T[0].data #K\n",
        "    vz_cube = hdu_list_vz[0].data #cm.s-1\n",
        "\n",
        "    dz=40/1024 #pc\n",
        "\n",
        "    core = synth(rho=rho_cube, T=T_cube, vz=vz_cube, dz=dz)\n",
        "    cube, tau = core.gen(vmin=vmin, vmax=vmax, dv=dv, thin=False)\n",
        "    cube_thin, tau_thin = core.gen(vmin=vmin, vmax=vmax, dv=dv, thin=True)\n"
      ],
      "execution_count": 5,
      "outputs": [
        {
          "output_type": "stream",
          "name": "stderr",
          "text": [
            "100%|██████████| 1024/1024 [00:08<00:00, 118.33it/s]\n",
            "100%|██████████| 101/101 [00:01<00:00, 62.94it/s]\n"
          ]
        }
      ]
    },
    {
      "cell_type": "markdown",
      "metadata": {
        "id": "HymFCQ7tzZ4O"
      },
      "source": [
        "##Select a range of kinetic temperature Tk - WNM"
      ]
    },
    {
      "cell_type": "code",
      "metadata": {
        "id": "66WG0pygzghx"
      },
      "source": [
        "cube_WNM, tau_WNM = core.gen(vmin=vmin, vmax=vmax, dv=dv, T_lim=[5000,np.inf], thin=True)\n",
        "cube_LNM, tau_LNM = core.gen(vmin=vmin, vmax=vmax, dv=dv, T_lim=[500,5000], thin=True)\n",
        "cube_CNM, tau_CNM = core.gen(vmin=vmin, vmax=vmax, dv=dv, T_lim=[0,500], thin=True)"
      ],
      "execution_count": null,
      "outputs": []
    },
    {
      "cell_type": "markdown",
      "metadata": {
        "id": "cxyVLi6CZ6Nt"
      },
      "source": [
        "##Plot synthetic obs\n",
        "### Column density map"
      ]
    },
    {
      "cell_type": "code",
      "metadata": {
        "id": "KWA2okTXZ8kN"
      },
      "source": [
        "NHI = np.sum(cube,0) * dv * core.C.value / 1.e19\n",
        "\n",
        "#Plot integrated column density field TOT\n",
        "fig = plt.figure(figsize=(8, 8))\n",
        "ax = fig.add_axes([0.1,0.1,0.78,0.8])\n",
        "ax.set_xlabel(r\"x\", fontsize=18.)\n",
        "ax.set_ylabel(r\"y\", fontsize=18.)\n",
        "img = ax.imshow(NHI, origin=\"lower\")\n",
        "colorbar_ax = fig.add_axes([0.89, 0.1, 0.02, 0.8])\n",
        "cbar = fig.colorbar(img, cax=colorbar_ax, extend='both')\n",
        "cbar.ax.tick_params(labelsize=14.)\n",
        "cbar.set_label(r\"N$_{HI}$ / [10$^{19}$ cm$^{-2}$]\", fontsize=18.)\n",
        "# plt.savefig(\"plot/\" + 'NHI.png', format='png', bbox_inches='tight',\n",
        "#             pad_inches=0.02)\n",
        "\n",
        "\n"
      ],
      "execution_count": null,
      "outputs": []
    },
    {
      "cell_type": "code",
      "metadata": {
        "id": "xncgrxLPzkLY"
      },
      "source": [
        "NHI_WNM = np.sum(cube_WNM,0) * dv * core.C.value / 1.e19\n",
        "\n",
        "#Plot integrated column density field TOT\n",
        "fig = plt.figure(figsize=(8, 8))\n",
        "ax = fig.add_axes([0.1,0.1,0.78,0.8])\n",
        "ax.set_xlabel(r\"x\", fontsize=18.)\n",
        "ax.set_ylabel(r\"y\", fontsize=18.)\n",
        "img = ax.imshow(NHI_WNM, origin=\"lower\")\n",
        "colorbar_ax = fig.add_axes([0.89, 0.1, 0.02, 0.8])\n",
        "cbar = fig.colorbar(img, cax=colorbar_ax, extend='both')\n",
        "cbar.ax.tick_params(labelsize=14.)\n",
        "cbar.set_label(r\"N$_{HI,WNM}$ / [10$^{19}$ cm$^{-2}$]\", fontsize=18.)\n",
        "# plt.savefig(\"plot/\" + 'NHI.png', format='png', bbox_inches='tight',\n",
        "#             pad_inches=0.02)"
      ],
      "execution_count": null,
      "outputs": []
    },
    {
      "cell_type": "markdown",
      "metadata": {
        "id": "XrQG5nUX1E4f"
      },
      "source": [
        "###Mosaic spectra"
      ]
    },
    {
      "cell_type": "code",
      "metadata": {
        "id": "9wDeWtQvaVfo"
      },
      "source": [
        "#Velocity array\n",
        "v = np.arange(vmin,vmax+dv, dv)\n",
        "\n",
        "#Plot mosaic spectra\n",
        "def norm(pval):\n",
        "    return (pval - pmin) / float(pmax - pmin)\n",
        "\n",
        "ny = 4; nx = 4\n",
        "center_y = 16; center_x = 16\n",
        "fig, axs = plt.subplots(4, 4, sharex=True, sharey=True, figsize=(14.,10.))\n",
        "fig.subplots_adjust(hspace=0, wspace=0, left=0, right=1, top=1, bottom=0)\n",
        "for i in np.arange(ny):\n",
        "    for j in np.arange(nx):\n",
        "        axs[i][j].set_xlim([-50,50])\n",
        "        axs[i][j].plot(v, cube[:,center_y+i,center_x+j], color='orange',\n",
        "                       linewidth=2., label=\"full\")\n",
        "        axs[i][j].plot(v, cube_thin[:,center_y+i,center_x+j], \"--\",\n",
        "                       color='cornflowerblue', linewidth=2., label=\"thin\")\n",
        "        axs[i][j].plot(v, cube_WNM[:,center_y+i,center_x+j], \"--\",\n",
        "                       color='r', linewidth=2., label=\"WNM thin\")\n",
        "        axs[i][j].plot(v, cube_LNM[:,center_y+i,center_x+j], \"--\",\n",
        "                       color='g', linewidth=2., label=\"LNM thin\")\n",
        "        axs[i][j].plot(v, cube_CNM[:,center_y+i,center_x+j], \"--\",\n",
        "                       color='b', linewidth=2., label=\"CNM thin\")\n",
        "        if j == 0: axs[i][j].set_ylabel(r'T$_b$ (k)', fontsize=16)\n",
        "        axs[i][j].set_xlabel(r'v$_{LSR}$ (km s$^{-1}$)', fontsize=16)\n",
        "plt.legend(loc = 1, numpoints = 1)\n",
        "leg = plt.gca().get_legend()\n",
        "ltext  = leg.get_texts()\n",
        "plt.setp(ltext, fontsize = 'small')\n",
        "# plt.savefig(\"plot/\" + 'mosaic_spectra.png', format='png', bbox_inches='tight',\n",
        "#             pad_inches=0.02)\n"
      ],
      "execution_count": null,
      "outputs": []
    },
    {
      "cell_type": "code",
      "metadata": {
        "id": "hjyPg6qNsCo4"
      },
      "source": [
        "#Plot mosaic spectra tau\n",
        "def norm(pval):\n",
        "    return (pval - pmin) / float(pmax - pmin)\n",
        "\n",
        "ny = 4; nx = 4\n",
        "center_y = 16; center_x = 16\n",
        "fig, axs = plt.subplots(4, 4, sharex=True, sharey=True, figsize=(14.,10.))\n",
        "fig.subplots_adjust(hspace=0, wspace=0, left=0, right=1, top=1, bottom=0)\n",
        "for i in np.arange(ny):\n",
        "    for j in np.arange(nx):\n",
        "        axs[i][j].set_xlim([-50,50])\n",
        "        axs[i][j].plot(v, np.exp(-tau[:,center_y+i,center_x+j]), color='orange',\n",
        "                       linewidth=2., label=\"full\")\n",
        "        axs[i][j].plot(v, np.exp(-tau_thin[:,center_y+i,center_x+j]), \"--\",\n",
        "                       color='cornflowerblue', linewidth=2., label=\"thin\")\n",
        "        axs[i][j].plot(v, np.exp(-tau_WNM[:,center_y+i,center_x+j]), \"--\",\n",
        "                       color='r', linewidth=2., label=\"WNM thin\")\n",
        "        axs[i][j].plot(v, np.exp(-tau_LNM[:,center_y+i,center_x+j]), \"--\",\n",
        "                       color='g', linewidth=2., label=\"LNM thin\")\n",
        "        axs[i][j].plot(v, np.exp(-tau_CNM[:,center_y+i,center_x+j]), \"--\",\n",
        "                       color='b', linewidth=2., label=\"CNM thin\")\n",
        "        if j == 0: axs[i][j].set_ylabel(r'e$^{- \\tau}$', fontsize=16)\n",
        "        axs[i][j].set_xlabel(r'v$_{LSR}$ (km s$^{-1}$)', fontsize=16)\n",
        "plt.legend(loc = 1, numpoints = 1)\n",
        "leg = plt.gca().get_legend()\n",
        "ltext  = leg.get_texts()\n",
        "plt.setp(ltext, fontsize = 'small')\n",
        "# plt.savefig(\"plot/\" + 'mosaic_spectra.png', format='png', bbox_inches='tight',\n",
        "#             pad_inches=0.02)\n"
      ],
      "execution_count": null,
      "outputs": []
    }
  ]
}